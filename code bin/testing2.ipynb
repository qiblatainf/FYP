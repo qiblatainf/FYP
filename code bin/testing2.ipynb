{
  "cells": [
    {
      "cell_type": "code",
      "execution_count": null,
      "metadata": {},
      "outputs": [],
      "source": [
        "#LIBRARIES\n",
        "import pandas as pd\n",
        "from access_onedrive import create_onedrive_directdownload\n",
        "from MedicalNER import medner\n"
      ]
    },
    {
      "cell_type": "code",
      "execution_count": null,
      "metadata": {},
      "outputs": [],
      "source": [
        "new_data_onedrive_link = 'https://1drv.ms/x/s!AsCp_kE1E5Md6hQevRHs-ptqyPlE?e=VZoeuK' #New Data.xlsx\n",
        "link = create_onedrive_directdownload(new_data_onedrive_link)\n",
        "data = pd.read_excel(link)    "
      ]
    },
    {
      "cell_type": "code",
      "execution_count": null,
      "metadata": {},
      "outputs": [],
      "source": [
        "#Convert Excel to DataFrame\n",
        "df = pd.DataFrame(data)\n"
      ]
    },
    {
      "cell_type": "code",
      "execution_count": null,
      "metadata": {},
      "outputs": [],
      "source": [
        "\n",
        "\"\"\"DATA CLEANING\"\"\"\n",
        "\n",
        "#dropping columns\n",
        "df.pop(df.columns[0])"
      ]
    },
    {
      "cell_type": "code",
      "execution_count": null,
      "metadata": {},
      "outputs": [],
      "source": [
        "cols = ['A', 'MR_DOB', 'BP', 'TR_PULSE', 'TR_TEMP', 'TR_RESP', 'SYSTOLIC', 'DIASTOLIC', 'TEMPERATURE', 'WEIGHT', 'O2SAT', 'NURSE_USERID', 'NURSE_EMP_CODE', 'DOCTOR_ID', 'month', 'day', 'hour', 'lostriage', 'loshospital', 'losED', 'new_mr']\n",
        "for col_name in cols:\n",
        "    df = df.drop([col_name], axis = 'columns')"
      ]
    },
    {
      "cell_type": "code",
      "execution_count": null,
      "metadata": {},
      "outputs": [],
      "source": [
        "#Dropping columns with ALL null values\n",
        "df.dropna(how = 'all', axis= 1)"
      ]
    },
    {
      "cell_type": "code",
      "execution_count": null,
      "metadata": {},
      "outputs": [],
      "source": [
        "#dropping records\n",
        "df = df[df.TRIAGE_DATETIME != df.ER_NO]\n",
        "df.drop(df[df['SPECIALTY'] == \"GYNAE & OBS\"].index, inplace = True)\n",
        "\n",
        "\"\"\"DATA MANIPULATION\"\"\"\n"
      ]
    },
    {
      "cell_type": "code",
      "execution_count": null,
      "metadata": {},
      "outputs": [],
      "source": [
        "\n",
        "df['AGE_YEARS'] = df['AGE_YEARS'].round(decimals=0).astype(int)"
      ]
    },
    {
      "cell_type": "code",
      "execution_count": null,
      "metadata": {},
      "outputs": [],
      "source": [
        "#Changing column values to Camel Casing\n",
        "df['CITY'] = df['CITY'].str.title()\n",
        "df['AREA'] = df['AREA'].str.title()"
      ]
    },
    {
      "cell_type": "code",
      "execution_count": null,
      "metadata": {},
      "outputs": [],
      "source": [
        "#Grouping Values in the Area column\n",
        "df.loc[(df['AREA'] == '-') | (df['AREA'] == '.') | (df['AREA'] == '----') | (df['AREA'] == '--') | (df['AREA'] == '---'), 'AREA'] = 'Unspecified'\n",
        "df.loc[(df['AREA'] == 'Defence Housing Authority') | (df['AREA'] == '.'), 'AREA'] = 'Defence'\n",
        "df.loc[(df['AREA'] == 'Bhitai Colony')] = 'Bhittai Colony'\n",
        "df.loc[(df['AREA'] == 'Gulshan Street')] = 'Gulshan-E-Iqbal'\n",
        "df.loc[(df['AREA'] == 'Malir Cant') | (df['AREA'] == 'Cant'), 'AREA'] = 'Malir Cantt'\n",
        "df.loc[(df['AREA'] == 'Cant Road')] = 'Cantt Road'\n",
        "df.loc[(df['AREA'] == 'Corossing')] = 'Crossing'\n",
        "df.loc[(df['AREA'] == 'Ghribabad Market')] = 'Ghareebabad'\n",
        "df.loc[(df['AREA'] == 'Khndyaro')] = 'Kandiaro'\n",
        "df.loc[(df['AREA'] == 'Dawood Churangi')] = 'Dawood Chowrangi'\n",
        "df.loc[(df['AREA'] == 'Steel Mil')] = 'Steel Mill'\n",
        "df.loc[(df['AREA'] == 'Landhi Town')] = 'Landhi'\n",
        "df.loc[(df['AREA'] == 'Saudaabad')] = 'Saudabad'\n",
        "df.loc[(df['AREA'] == 'Satalite Town')] = 'Satellite Town'\n",
        "df.loc[(df['AREA'] == 'Haidri')] = 'Hyderi'\n",
        "df.loc[(df['AREA'] == 'Islam Abad')] = 'Islamabad'\n",
        "df.loc[(df['AREA'] == 'Gulshan-e-Mamar')] = 'Gulshan-e-Maymar'\n",
        "df.loc[(df['AREA'] == 'Site Area') | (df['AREA'] == 'S.I.T.E Area')] = 'SITE'\n",
        "df.loc[(df['AREA'] == 'P I D C')] = 'PIDC'"
      ]
    },
    {
      "cell_type": "code",
      "execution_count": null,
      "metadata": {},
      "outputs": [],
      "source": [
        "#Preparing Triage Complaint Column\n",
        "df['TRIAGECOMPLAINT'] = df['TRIAGECOMPLAINT'].str.title()\n",
        "complaints = df['TRIAGECOMPLAINT'] .str.split(\",\", n = -1, expand = True)\n",
        "#print(complaints.tail(10))\n",
        "df['TRIAGECOMPLAINT_1'] = complaints[0]\n",
        "df['TRIAGECOMPLAINT_2'] = complaints[1]\n",
        "df['TRIAGECOMPLAINT_3'] = complaints[2]\n",
        "df['TRIAGECOMPLAINT_4'] = complaints[3]\n",
        "df['TRIAGECOMPLAINT_5'] = complaints[4]\n",
        "df = df.drop(['TRIAGECOMPLAINT'], axis = \"columns\")"
      ]
    },
    {
      "cell_type": "code",
      "execution_count": null,
      "metadata": {},
      "outputs": [],
      "source": [
        "df['HOPI_'] = df['HOPI_'].str.title()\n",
        "\n",
        "df['ED_DX'] = df['ED_DX'].str.title()\n",
        "df.loc[(df['ED_DX'] == 'Rta'), 'ED_DX'] = 'RTA'\n",
        "df.loc[(df['ED_DX'] == 'Uti'), 'ED_DX'] = 'UTI'\n",
        "df.loc[(df['ED_DX'] == 'Apd'), 'ED_DX'] = 'APD'\n",
        "df['ED_DX'] = df['ED_DX'].str.replace('Uti','UTI', regex = True)\n",
        "df['ED_DX'] = df['ED_DX'].str.replace('Apd','APD', regex = True)\n",
        "df['ED_DX'] = df['ED_DX'].str.replace(' + ',', ', regex = True)\n",
        "df['ED_DX'] = df['ED_DX'].str.replace('+',', ', regex = True)\n",
        "df['ED_DX'] = df['ED_DX'].str.replace('?','', regex = True)\n",
        "df['ED_DX'] = df['ED_DX'].str.replace('//',', ', regex = True)\n",
        "df['ED_DX'] = df['ED_DX'].str.replace(',,',', ', regex = True)\n",
        "df['ED_DX'] = df['ED_DX'].str.replace('>','', regex = True)"
      ]
    },
    {
      "cell_type": "code",
      "execution_count": null,
      "metadata": {},
      "outputs": [],
      "source": [
        "new_df = pd.DataFrame(df)\n",
        "new_df.columns = new_df.columns.str.title()\n",
        "\n",
        "new_df.columns = new_df.columns.str.replace(\"Er_No\", \"ER_No\")\n",
        "new_df.columns = new_df.columns.str.replace(\"Hopi_\", \"HOPI\")\n",
        "new_df.columns = new_df.columns.str.replace(\"Er_Dx\", \"ER_Diagnosis\")\n",
        "new_df.columns = new_df.columns.str.replace(\"Triagecomplaint\", \"Triage_Complaint\")\n",
        "\n",
        "#Changing Data Types \n",
        "new_df['ER_No'] = new_df['ER_No'].astype('str')\n",
        "\n",
        "print(\"Cleaning was successful\")"
      ]
    },
    {
      "cell_type": "code",
      "execution_count": null,
      "metadata": {},
      "outputs": [],
      "source": [
        "import writeto_onedrive\n",
        "import importlib\n",
        "importlib.reload(writeto_onedrive)\n",
        "from writeto_onedrive import write_to_onedrive\n",
        "write_to_onedrive(new_df, \"merged_clean_data.xlsx\") #add write to one drive in med ner\n",
        "print(\"Successfully written to one drive\")"
      ]
    }
  ],
  "metadata": {
    "anaconda-cloud": {},
    "kernelspec": {
      "display_name": "Python 3",
      "language": "python",
      "name": "python3"
    },
    "language_info": {
      "codemirror_mode": {
        "name": "ipython",
        "version": 3
      },
      "file_extension": ".py",
      "mimetype": "text/x-python",
      "name": "python",
      "nbconvert_exporter": "python",
      "pygments_lexer": "ipython3",
      "version": "3.6.1"
    }
  },
  "nbformat": 4,
  "nbformat_minor": 4
}
