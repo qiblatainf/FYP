{
 "cells": [
  {
   "cell_type": "code",
   "execution_count": 1,
   "metadata": {},
   "outputs": [],
   "source": [
    "\n",
    "import pandas as pd\n",
    "from access_onedrive import create_onedrive_directdownload\n",
    "   \n",
    "data_files = ['https://1drv.ms/x/s!AsCp_kE1E5Md510L7cgZfxy_ifCq?e=bNj2eY', 'https://1drv.ms/x/s!AsCp_kE1E5Md6TUUuL5DtjrFTggO?e=xA3jaE', 'https://1drv.ms/x/s!AsCp_kE1E5Md6TSDbgcW_MFQzySB?e=oWsFUm']\n"
   ]
  },
  {
   "cell_type": "code",
   "execution_count": 15,
   "metadata": {},
   "outputs": [],
   "source": [
    "# merge all 3 files\n",
    "\n",
    "data = pd.DataFrame()\n",
    "for file in range(len(data_files)):\n",
    "    data = pd.concat([data, pd.read_excel(create_onedrive_directdownload(data_files[file]))])"
   ]
  },
  {
   "cell_type": "code",
   "execution_count": 17,
   "metadata": {},
   "outputs": [
    {
     "name": "stderr",
     "output_type": "stream",
     "text": [
      "127.0.0.1 - - [04/May/2023 20:29:44] \"GET /?code=M.C106_BAY.2.78db714b-2881-7a23-379b-60fa64ca89fd HTTP/1.1\" 200 -\n"
     ]
    },
    {
     "name": "stdout",
     "output_type": "stream",
     "text": [
      "Converting Dataframe to Excel File\n"
     ]
    }
   ],
   "source": [
    "from writeto_onedrive import write_to_onedrive\n",
    "\n",
    "write_to_onedrive(data, \"merged_data.xlsx\")"
   ]
  },
  {
   "cell_type": "code",
   "execution_count": null,
   "metadata": {},
   "outputs": [],
   "source": [
    "#write appended data to one drive\n",
    "#clean new data \n",
    "#append new data to old data and save it as old data\n",
    "#pass the new data for analysis\n",
    "\n",
    "#remove duplicate rows in indus clean"
   ]
  }
 ],
 "metadata": {
  "kernelspec": {
   "display_name": "Python 3",
   "language": "python",
   "name": "python3"
  },
  "language_info": {
   "codemirror_mode": {
    "name": "ipython",
    "version": 3
   },
   "file_extension": ".py",
   "mimetype": "text/x-python",
   "name": "python",
   "nbconvert_exporter": "python",
   "pygments_lexer": "ipython3",
   "version": "3.10.0"
  },
  "orig_nbformat": 4
 },
 "nbformat": 4,
 "nbformat_minor": 2
}
