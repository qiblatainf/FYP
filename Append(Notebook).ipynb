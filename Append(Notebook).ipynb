{
 "cells": [
  {
   "cell_type": "code",
<<<<<<< HEAD
   "execution_count": 3,
=======
   "execution_count": 1,
>>>>>>> 33988e6f0216516ad264c6f3866722ff3815af20
   "metadata": {},
   "outputs": [],
   "source": [
    "\n",
    "import pandas as pd\n",
    "from access_onedrive import create_onedrive_directdownload\n",
    "   \n",
    "data_files = ['https://1drv.ms/x/s!AsCp_kE1E5Md510L7cgZfxy_ifCq?e=bNj2eY', 'https://1drv.ms/x/s!AsCp_kE1E5Md6TUUuL5DtjrFTggO?e=xA3jaE', 'https://1drv.ms/x/s!AsCp_kE1E5Md6TSDbgcW_MFQzySB?e=oWsFUm']\n"
   ]
  },
  {
   "cell_type": "code",
<<<<<<< HEAD
   "execution_count": 4,
=======
   "execution_count": 15,
>>>>>>> 33988e6f0216516ad264c6f3866722ff3815af20
   "metadata": {},
   "outputs": [],
   "source": [
    "# merge all 3 files\n",
    "\n",
    "data = pd.DataFrame()\n",
    "for file in range(len(data_files)):\n",
    "    data = pd.concat([data, pd.read_excel(create_onedrive_directdownload(data_files[file]))])"
   ]
  },
  {
   "cell_type": "code",
<<<<<<< HEAD
   "execution_count": 11,
   "metadata": {},
   "outputs": [
    {
     "data": {
      "text/plain": [
       "pandas.core.frame.DataFrame"
      ]
     },
     "execution_count": 11,
     "metadata": {},
     "output_type": "execute_result"
    }
   ],
   "source": [
    "# print(data)\n",
    "type(data)"
   ]
  },
  {
   "cell_type": "code",
   "execution_count": 13,
   "metadata": {},
   "outputs": [
=======
   "execution_count": 17,
   "metadata": {},
   "outputs": [
    {
     "name": "stderr",
     "output_type": "stream",
     "text": [
      "127.0.0.1 - - [04/May/2023 20:29:44] \"GET /?code=M.C106_BAY.2.78db714b-2881-7a23-379b-60fa64ca89fd HTTP/1.1\" 200 -\n"
     ]
    },
>>>>>>> 33988e6f0216516ad264c6f3866722ff3815af20
    {
     "name": "stdout",
     "output_type": "stream",
     "text": [
<<<<<<< HEAD
      "File name =  merged_data.xlsx\n"
     ]
    },
    {
     "name": "stderr",
     "output_type": "stream",
     "text": [
      "127.0.0.1 - - [04/May/2023 23:30:34] \"GET /?code=M.C107_BAY.2.d44e6d47-dd75-6f76-0867-9f9cd7b42d0a HTTP/1.1\" 200 -\n"
     ]
    },
    {
     "name": "stdout",
     "output_type": "stream",
     "text": [
      "Folder Name =  FYP\n",
      "Converting Dataframe to Excel File\n",
      "Conversion Successful\n"
     ]
    },
    {
     "ename": "TypeError",
     "evalue": "expected str, bytes or os.PathLike object, not BufferedReader",
     "output_type": "error",
     "traceback": [
      "\u001b[1;31m---------------------------------------------------------------------------\u001b[0m",
      "\u001b[1;31mTypeError\u001b[0m                                 Traceback (most recent call last)",
      "Cell \u001b[1;32mIn[13], line 6\u001b[0m\n\u001b[0;32m      3\u001b[0m importlib\u001b[39m.\u001b[39mreload(writeto_onedrive)\n\u001b[0;32m      5\u001b[0m \u001b[39mfrom\u001b[39;00m \u001b[39mwriteto_onedrive\u001b[39;00m \u001b[39mimport\u001b[39;00m write_to_onedrive\n\u001b[1;32m----> 6\u001b[0m write_to_onedrive(data, \u001b[39m\"\u001b[39;49m\u001b[39mmerged_data.xlsx\u001b[39;49m\u001b[39m\"\u001b[39;49m)\n",
      "File \u001b[1;32md:\\FYP\\writeto_onedrive.py:51\u001b[0m, in \u001b[0;36mwrite_to_onedrive\u001b[1;34m(df, file_name)\u001b[0m\n\u001b[0;32m     47\u001b[0m \u001b[39m# # print(file)\u001b[39;00m\n\u001b[0;32m     48\u001b[0m \u001b[39m# # returned_item = client.item(id='1D93133541FEA9C0!12436').children['newfile.txt'].upload(file)   \u001b[39;00m\n\u001b[0;32m     49\u001b[0m \u001b[39m# returned_item = client.item(id=fyp_folder_id).children['cleaned_dataset_merged.xlsx'].upload('test.xlsx')\u001b[39;00m\n\u001b[0;32m     50\u001b[0m \u001b[39mwith\u001b[39;00m \u001b[39mopen\u001b[39m(\u001b[39m'\u001b[39m\u001b[39mtest.xlsx\u001b[39m\u001b[39m'\u001b[39m, \u001b[39m'\u001b[39m\u001b[39mrb\u001b[39m\u001b[39m'\u001b[39m) \u001b[39mas\u001b[39;00m file:\n\u001b[1;32m---> 51\u001b[0m     returned_item \u001b[39m=\u001b[39m client\u001b[39m.\u001b[39;49mitem(\u001b[39mid\u001b[39;49m\u001b[39m=\u001b[39;49mfyp_folder_id)\u001b[39m.\u001b[39;49mchildren[file_name]\u001b[39m.\u001b[39;49mupload(file)  \n\u001b[0;32m     52\u001b[0m \u001b[39m# returned_item = client.item(id=fyp_folder_id).children[file_name].upload('test.xlsx')  \u001b[39;00m\n\u001b[0;32m     53\u001b[0m returned_item\n",
      "File \u001b[1;32mc:\\Users\\Hp\\AppData\\Local\\Programs\\Python\\Python310\\lib\\site-packages\\onedrivesdk\\request\\item_request_builder.py:117\u001b[0m, in \u001b[0;36mItemRequestBuilder.upload\u001b[1;34m(self, local_path)\u001b[0m\n\u001b[0;32m    108\u001b[0m \u001b[39mdef\u001b[39;00m \u001b[39mupload\u001b[39m(\u001b[39mself\u001b[39m, local_path):\n\u001b[0;32m    109\u001b[0m \u001b[39m    \u001b[39m\u001b[39m\"\"\"Uploads the file using PUT\u001b[39;00m\n\u001b[0;32m    110\u001b[0m \u001b[39m    \u001b[39;00m\n\u001b[0;32m    111\u001b[0m \u001b[39m    Args:\u001b[39;00m\n\u001b[1;32m   (...)\u001b[0m\n\u001b[0;32m    115\u001b[0m \u001b[39m        The created entity.\u001b[39;00m\n\u001b[0;32m    116\u001b[0m \u001b[39m    \"\"\"\u001b[39;00m\n\u001b[1;32m--> 117\u001b[0m     \u001b[39mreturn\u001b[39;00m \u001b[39mself\u001b[39;49m\u001b[39m.\u001b[39;49mcontent\u001b[39m.\u001b[39;49mrequest()\u001b[39m.\u001b[39;49mupload(local_path)\n",
      "File \u001b[1;32mc:\\Users\\Hp\\AppData\\Local\\Programs\\Python\\Python310\\lib\\site-packages\\onedrivesdk\\request\\item_content_request.py:59\u001b[0m, in \u001b[0;36mItemContentRequest.upload\u001b[1;34m(self, content_local_path)\u001b[0m\n\u001b[0;32m     48\u001b[0m \u001b[39m\u001b[39m\u001b[39m\"\"\"Uploads the file using PUT\u001b[39;00m\n\u001b[0;32m     49\u001b[0m \u001b[39m\u001b[39;00m\n\u001b[0;32m     50\u001b[0m \u001b[39mArgs:\u001b[39;00m\n\u001b[1;32m   (...)\u001b[0m\n\u001b[0;32m     56\u001b[0m \u001b[39m        The created Item.\u001b[39;00m\n\u001b[0;32m     57\u001b[0m \u001b[39m\"\"\"\u001b[39;00m\n\u001b[0;32m     58\u001b[0m \u001b[39mself\u001b[39m\u001b[39m.\u001b[39mmethod \u001b[39m=\u001b[39m \u001b[39m\"\u001b[39m\u001b[39mPUT\u001b[39m\u001b[39m\"\u001b[39m\n\u001b[1;32m---> 59\u001b[0m entity_response \u001b[39m=\u001b[39m \u001b[39mself\u001b[39;49m\u001b[39m.\u001b[39;49msend(path\u001b[39m=\u001b[39;49mcontent_local_path)\n\u001b[0;32m     60\u001b[0m entity \u001b[39m=\u001b[39m Item(json\u001b[39m.\u001b[39mloads(entity_response\u001b[39m.\u001b[39mcontent))\n\u001b[0;32m     61\u001b[0m \u001b[39mreturn\u001b[39;00m entity\n",
      "File \u001b[1;32mc:\\Users\\Hp\\AppData\\Local\\Programs\\Python\\Python310\\lib\\site-packages\\onedrivesdk\\request_base.py:141\u001b[0m, in \u001b[0;36mRequestBase.send\u001b[1;34m(self, content, path, data)\u001b[0m\n\u001b[0;32m    138\u001b[0m     \u001b[39mself\u001b[39m\u001b[39m.\u001b[39mappend_option(HeaderOption(\u001b[39m\"\u001b[39m\u001b[39mContent-Type\u001b[39m\u001b[39m\"\u001b[39m, \u001b[39mself\u001b[39m\u001b[39m.\u001b[39mcontent_type))\n\u001b[0;32m    140\u001b[0m \u001b[39mif\u001b[39;00m path:\n\u001b[1;32m--> 141\u001b[0m     response \u001b[39m=\u001b[39m \u001b[39mself\u001b[39;49m\u001b[39m.\u001b[39;49m_client\u001b[39m.\u001b[39;49mhttp_provider\u001b[39m.\u001b[39;49msend(\n\u001b[0;32m    142\u001b[0m         \u001b[39mself\u001b[39;49m\u001b[39m.\u001b[39;49mmethod,\n\u001b[0;32m    143\u001b[0m         \u001b[39mself\u001b[39;49m\u001b[39m.\u001b[39;49m_headers,\n\u001b[0;32m    144\u001b[0m         \u001b[39mself\u001b[39;49m\u001b[39m.\u001b[39;49mrequest_url,\n\u001b[0;32m    145\u001b[0m         path\u001b[39m=\u001b[39;49mpath)\n\u001b[0;32m    146\u001b[0m \u001b[39melif\u001b[39;00m data:\n\u001b[0;32m    147\u001b[0m     response \u001b[39m=\u001b[39m \u001b[39mself\u001b[39m\u001b[39m.\u001b[39m_client\u001b[39m.\u001b[39mhttp_provider\u001b[39m.\u001b[39msend(\n\u001b[0;32m    148\u001b[0m         \u001b[39mself\u001b[39m\u001b[39m.\u001b[39mmethod,\n\u001b[0;32m    149\u001b[0m         \u001b[39mself\u001b[39m\u001b[39m.\u001b[39m_headers,\n\u001b[0;32m    150\u001b[0m         \u001b[39mself\u001b[39m\u001b[39m.\u001b[39mrequest_url,\n\u001b[0;32m    151\u001b[0m         data\u001b[39m=\u001b[39mdata)\n",
      "File \u001b[1;32mc:\\Users\\Hp\\AppData\\Local\\Programs\\Python\\Python310\\lib\\site-packages\\onedrivesdk\\http_provider.py:55\u001b[0m, in \u001b[0;36mHttpProvider.send\u001b[1;34m(self, method, headers, url, data, content, path)\u001b[0m\n\u001b[0;32m     52\u001b[0m session \u001b[39m=\u001b[39m requests\u001b[39m.\u001b[39mSession()\n\u001b[0;32m     54\u001b[0m \u001b[39mif\u001b[39;00m path:\n\u001b[1;32m---> 55\u001b[0m     \u001b[39mwith\u001b[39;00m \u001b[39mopen\u001b[39;49m(path, mode\u001b[39m=\u001b[39;49m\u001b[39m'\u001b[39;49m\u001b[39mrb\u001b[39;49m\u001b[39m'\u001b[39;49m) \u001b[39mas\u001b[39;00m f:\n\u001b[0;32m     56\u001b[0m         request \u001b[39m=\u001b[39m requests\u001b[39m.\u001b[39mRequest(method,\n\u001b[0;32m     57\u001b[0m                                    url,\n\u001b[0;32m     58\u001b[0m                                    headers\u001b[39m=\u001b[39mheaders,\n\u001b[0;32m     59\u001b[0m                                    data\u001b[39m=\u001b[39mf)\n\u001b[0;32m     60\u001b[0m         prepped \u001b[39m=\u001b[39m request\u001b[39m.\u001b[39mprepare()\n",
      "\u001b[1;31mTypeError\u001b[0m: expected str, bytes or os.PathLike object, not BufferedReader"
=======
      "Converting Dataframe to Excel File\n"
>>>>>>> 33988e6f0216516ad264c6f3866722ff3815af20
     ]
    }
   ],
   "source": [
<<<<<<< HEAD
    "import writeto_onedrive\n",
    "import importlib\n",
    "importlib.reload(writeto_onedrive)\n",
    "\n",
    "from writeto_onedrive import *\n",
    "session_write_to_onedrive(data, \"merged_data.xlsx\")"
=======
    "from writeto_onedrive import write_to_onedrive\n",
    "\n",
    "write_to_onedrive(data, \"merged_data.xlsx\")"
>>>>>>> 33988e6f0216516ad264c6f3866722ff3815af20
   ]
  },
  {
   "cell_type": "code",
   "execution_count": null,
   "metadata": {},
   "outputs": [],
   "source": [
    "#write appended data to one drive\n",
    "#clean new data \n",
    "#append new data to old data and save it as old data\n",
    "#pass the new data for analysis\n",
    "\n",
    "#remove duplicate rows in indus clean\n",
    "\n",
    "1. Clean new data\n",
    "2. Clean old data\n",
    "2. merge with old data and save in a merged file (clean old file)\n",
    "3. "
   ]
  }
 ],
 "metadata": {
  "kernelspec": {
   "display_name": "Python 3",
   "language": "python",
   "name": "python3"
  },
  "language_info": {
   "codemirror_mode": {
    "name": "ipython",
    "version": 3
   },
   "file_extension": ".py",
   "mimetype": "text/x-python",
   "name": "python",
   "nbconvert_exporter": "python",
   "pygments_lexer": "ipython3",
   "version": "3.10.0"
  },
  "orig_nbformat": 4
 },
 "nbformat": 4,
 "nbformat_minor": 2
}
