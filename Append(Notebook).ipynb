{
 "cells": [
  {
   "cell_type": "code",
   "execution_count": 1,
   "metadata": {},
   "outputs": [],
   "source": [
    "\n",
    "import pandas as pd\n",
    "from access_onedrive import create_onedrive_directdownload\n",
    "   \n",
    "data_files = ['https://1drv.ms/x/s!AsCp_kE1E5Md510L7cgZfxy_ifCq?e=bNj2eY', 'https://1drv.ms/x/s!AsCp_kE1E5Md6TUUuL5DtjrFTggO?e=xA3jaE', 'https://1drv.ms/x/s!AsCp_kE1E5Md6TSDbgcW_MFQzySB?e=oWsFUm']\n"
   ]
  },
  {
   "cell_type": "code",
   "execution_count": null,
   "metadata": {},
   "outputs": [],
   "source": [
    "data = pd.DataFrame()\n",
    "for file in data_files:\n",
    "    data.append(pd.read_excel(create_onedrive_directdownload(file)))"
   ]
  }
 ],
 "metadata": {
  "kernelspec": {
   "display_name": "Python 3",
   "language": "python",
   "name": "python3"
  },
  "language_info": {
   "codemirror_mode": {
    "name": "ipython",
    "version": 3
   },
   "file_extension": ".py",
   "mimetype": "text/x-python",
   "name": "python",
   "nbconvert_exporter": "python",
   "pygments_lexer": "ipython3",
   "version": "3.10.6"
  },
  "orig_nbformat": 4
 },
 "nbformat": 4,
 "nbformat_minor": 2
}
