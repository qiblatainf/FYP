{
 "cells": [
  {
   "cell_type": "code",
   "execution_count": 3,
   "metadata": {},
   "outputs": [],
   "source": [
    "\n",
    "import pandas as pd\n",
    "from access_onedrive import create_onedrive_directdownload\n",
    "   \n",
    "data_files = ['https://1drv.ms/x/s!AsCp_kE1E5Md510L7cgZfxy_ifCq?e=bNj2eY', 'https://1drv.ms/x/s!AsCp_kE1E5Md6TUUuL5DtjrFTggO?e=xA3jaE', 'https://1drv.ms/x/s!AsCp_kE1E5Md6TSDbgcW_MFQzySB?e=oWsFUm']\n"
   ]
  },
  {
   "cell_type": "code",
   "execution_count": 4,
   "metadata": {},
   "outputs": [],
   "source": [
    "data = pd.DataFrame()\n",
    "for file in range(len(data_files)):\n",
    "    data = pd.concat([data, pd.read_excel(create_onedrive_directdownload(data_files[file]))])"
   ]
  },
  {
   "cell_type": "code",
   "execution_count": 11,
   "metadata": {},
   "outputs": [
    {
     "data": {
      "text/plain": [
       "pandas.core.frame.DataFrame"
      ]
     },
     "execution_count": 11,
     "metadata": {},
     "output_type": "execute_result"
    }
   ],
   "source": [
    "# print(data)\n",
    "type(data)"
   ]
  },
  {
   "cell_type": "code",
   "execution_count": 18,
   "metadata": {},
   "outputs": [
    {
     "name": "stdout",
     "output_type": "stream",
     "text": [
      "<class 'pandas.core.frame.DataFrame'>\n",
      "File name =  new.xlsx\n"
     ]
    },
    {
     "name": "stderr",
     "output_type": "stream",
     "text": [
      "127.0.0.1 - - [05/May/2023 14:09:08] \"GET /?code=M.C107_BAY.2.e3c3178e-e8fc-a7f6-b771-71aa0ee9ab0a HTTP/1.1\" 200 -\n"
     ]
    },
    {
     "name": "stdout",
     "output_type": "stream",
     "text": [
      "Folder Name =  FYP\n",
      "Converting Dataframe to Excel File\n",
      "Conversion Successful\n",
      "File successfully uploaded\n",
      "File name =  merged_data.xlsx\n"
     ]
    },
    {
     "name": "stderr",
     "output_type": "stream",
     "text": [
      "127.0.0.1 - - [05/May/2023 14:10:44] \"GET /?code=M.C107_BAY.2.b2954764-871e-4c29-dc08-b9180484a2b2 HTTP/1.1\" 200 -\n"
     ]
    },
    {
     "name": "stdout",
     "output_type": "stream",
     "text": [
      "Folder Name =  FYP\n",
      "Converting Dataframe to Excel File\n",
      "Conversion Successful\n",
      "File successfully uploaded\n"
     ]
    }
   ],
   "source": [
    "import writeto_onedrive\n",
    "import importlib\n",
    "importlib.reload(writeto_onedrive)\n",
    "\n",
    "from writeto_onedrive import *\n",
    "write_to_onedrive(data, \"merged_data.xlsx\")"
   ]
  },
  {
   "cell_type": "code",
   "execution_count": null,
   "metadata": {},
   "outputs": [],
   "source": [
    "from access_onedrive import create_onedrive_directdownload\n",
    "new_data_link = 'https://1drv.ms/x/s!AsCp_kE1E5Md6hHi2av2ez6BdQ9S?e=UexbnL'\n",
    "link = create_onedrive_directdownload(new_data_link)\n",
    "\n",
    "new_data = pd.read_excel(link)"
   ]
  },
  {
   "cell_type": "code",
   "execution_count": null,
   "metadata": {},
   "outputs": [],
   "source": [
    "from access_onedrive import create_onedrive_directdownload\n",
    "old_data_link = 'https://1drv.ms/x/s!AsCp_kE1E5Md6hQevRHs-ptqyPlE?e=5gBagY'\n",
    "old_data_od_link = create_onedrive_directdownload(new_data_link)\n",
    "\n",
    "old_data = pd.read_excel(old_data_od_link)"
   ]
  },
  {
   "cell_type": "code",
   "execution_count": null,
   "metadata": {},
   "outputs": [],
   "source": [
    "\n",
    "final_data = pd.concat([old_data, new_data])\n",
    "\n",
    "import writeto_onedrive\n",
    "import importlib\n",
    "importlib.reload(writeto_onedrive)\n",
    "\n",
    "from writeto_onedrive import *\n",
    "write_to_onedrive(final_data, \"merged_data.xlsx\")"
   ]
  }
 ],
 "metadata": {
  "kernelspec": {
   "display_name": "Python 3",
   "language": "python",
   "name": "python3"
  },
  "language_info": {
   "codemirror_mode": {
    "name": "ipython",
    "version": 3
   },
   "file_extension": ".py",
   "mimetype": "text/x-python",
   "name": "python",
   "nbconvert_exporter": "python",
   "pygments_lexer": "ipython3",
   "version": "3.10.6"
  },
  "orig_nbformat": 4
 },
 "nbformat": 4,
 "nbformat_minor": 2
}
