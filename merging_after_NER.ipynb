{
 "cells": [
  {
   "cell_type": "code",
   "execution_count": 1,
   "metadata": {},
   "outputs": [],
   "source": [
    "from access_onedrive import create_onedrive_directdownload\n",
    "import pandas as pd \n",
    "\n",
    "onedrive_link = 'https://1drv.ms/x/s!AsCp_kE1E5Md6gKH4rWQp27oFj3f'\n",
    "link = create_onedrive_directdownload(onedrive_link)\n",
    "df = pd.read_excel(link)\n",
    "\n",
    "# https://1drv.ms/x/s!AsCp_kE1E5Md6gKH4rWQp27oFj3f"
   ]
  },
  {
   "cell_type": "code",
   "execution_count": 4,
   "metadata": {},
   "outputs": [],
   "source": [
    "# from access_onedrive import create_onedrive_directdownload\n",
    "\n",
    "onedrive_link = 'https://1drv.ms/x/s!AsCp_kE1E5Md6UkKXCAorwdeI3bi?e=SGPCLs'\n",
    "link = create_onedrive_directdownload(onedrive_link)\n",
    "df_overall = pd.read_excel(link)\n"
   ]
  },
  {
   "cell_type": "code",
   "execution_count": 14,
   "metadata": {},
   "outputs": [],
   "source": [
    "# finding all null rows from overall data\n",
    "\n",
    "df_overall_null = df_overall[df_overall['HOPI'].isna()]\n",
    "df_overall_null.to_excel('df_overall_null.xlsx')"
   ]
  },
  {
   "cell_type": "code",
   "execution_count": 13,
   "metadata": {},
   "outputs": [],
   "source": [
    "df_overall_notnull = df_overall[df_overall['HOPI'].notnull()]\n",
    "\n",
    "df_overall_notnull.to_excel('df_overall_notnull.xlsx')"
   ]
  },
  {
   "cell_type": "code",
   "execution_count": 23,
   "metadata": {},
   "outputs": [],
   "source": [
    "data = pd.read_excel('C:\\\\Users\\\\lenovo\\\\Documents\\\\FYP\\\\FYP\\\\df_overall_notnull.xlsx')\n",
    "df_all_rows = pd.DataFrame(data)\n"
   ]
  },
  {
   "cell_type": "code",
   "execution_count": 26,
   "metadata": {},
   "outputs": [],
   "source": [
    "df_all_rows.sort_index()\n",
    "df_all_rows.to_excel(\"final_df.xlsx\")"
   ]
  }
 ],
 "metadata": {
  "kernelspec": {
   "display_name": "Python 3",
   "language": "python",
   "name": "python3"
  },
  "language_info": {
   "codemirror_mode": {
    "name": "ipython",
    "version": 3
   },
   "file_extension": ".py",
   "mimetype": "text/x-python",
   "name": "python",
   "nbconvert_exporter": "python",
   "pygments_lexer": "ipython3",
   "version": "3.10.0"
  },
  "orig_nbformat": 4
 },
 "nbformat": 4,
 "nbformat_minor": 2
}
